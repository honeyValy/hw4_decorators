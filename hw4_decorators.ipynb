{
 "cells": [
  {
   "cell_type": "code",
   "execution_count": 4,
   "id": "bf99c5fe",
   "metadata": {},
   "outputs": [],
   "source": [
    "import os\n",
    "import datetime"
   ]
  },
  {
   "cell_type": "markdown",
   "id": "495c113e",
   "metadata": {},
   "source": [
    "1. Доработать декоратор logger в коде ниже. Должен получиться декоратор, который записывает в файл 'main.log' дату и время вызова функции,\n",
    "имя функции, аргументы, с которыми вызвалась, и возвращаемое значение. Функция test_1 в коде ниже также должна отработать без ошибок."
   ]
  },
  {
   "cell_type": "code",
   "execution_count": 64,
   "id": "f38c8b90",
   "metadata": {},
   "outputs": [],
   "source": [
    "def logger(old_function):\n",
    "\n",
    "    def new_function(*args, **kwargs):\n",
    "        calling_datetime = str(datetime.datetime.now())\n",
    "        func_name = old_function.__name__\n",
    "        func_res = str(old_function(*args, **kwargs))\n",
    "        res = calling_datetime + ' ' + func_name + ' ' + f'{args=}' + ' ' + f'{kwargs=}' + ' ' + 'result= ' + ' ' + func_res\n",
    "        if os.path.exists('main.log'):\n",
    "            with open ('main.log', 'a+') as f:\n",
    "                f.write(f'\\n{res}')\n",
    "        else:\n",
    "            with open ('main.log', 'w') as f:\n",
    "                f.write(res)\n",
    "        return old_function(*args, **kwargs)\n",
    "    return new_function"
   ]
  },
  {
   "cell_type": "markdown",
   "id": "3032d6bb",
   "metadata": {},
   "source": [
    "Тестируем"
   ]
  },
  {
   "cell_type": "code",
   "execution_count": 65,
   "id": "18ff2ba5",
   "metadata": {},
   "outputs": [],
   "source": [
    "def summator(a, b):\n",
    "    return a + b"
   ]
  },
  {
   "cell_type": "code",
   "execution_count": 66,
   "id": "cf6b91b2",
   "metadata": {},
   "outputs": [
    {
     "data": {
      "text/plain": [
       "7"
      ]
     },
     "execution_count": 66,
     "metadata": {},
     "output_type": "execute_result"
    }
   ],
   "source": [
    "summator(3,4)"
   ]
  },
  {
   "cell_type": "code",
   "execution_count": 67,
   "id": "f912606d",
   "metadata": {},
   "outputs": [],
   "source": [
    "@logger\n",
    "def summator(a, b):\n",
    "    return a + b"
   ]
  },
  {
   "cell_type": "code",
   "execution_count": 68,
   "id": "8de023e7",
   "metadata": {},
   "outputs": [
    {
     "data": {
      "text/plain": [
       "17"
      ]
     },
     "execution_count": 68,
     "metadata": {},
     "output_type": "execute_result"
    }
   ],
   "source": [
    "summator(3,14)"
   ]
  },
  {
   "cell_type": "markdown",
   "id": "7cd44f15",
   "metadata": {},
   "source": [
    "Тесты из домашнего задания"
   ]
  },
  {
   "cell_type": "code",
   "execution_count": 74,
   "id": "1812d7d7",
   "metadata": {},
   "outputs": [],
   "source": [
    "def test_1():\n",
    "\n",
    "    path = 'main.log'\n",
    "    if os.path.exists(path):\n",
    "        os.remove(path)\n",
    "\n",
    "    @logger\n",
    "    def hello_world():\n",
    "        return 'Hello World'\n",
    "\n",
    "    @logger\n",
    "    def summator(a, b=0):\n",
    "        return a + b\n",
    "\n",
    "    @logger\n",
    "    def div(a, b):\n",
    "        return a / b\n",
    "\n",
    "    assert 'Hello World' == hello_world(), \"Функция возвращает 'Hello World'\"\n",
    "    result = summator(2, 2)\n",
    "    assert isinstance(result, int), 'Должно вернуться целое число'\n",
    "    assert result == 4, '2 + 2 = 4'\n",
    "    result = div(6, 2)\n",
    "    assert result == 3, '6 / 2 = 3'\n",
    "    \n",
    "    assert os.path.exists(path), 'файл main.log должен существовать'\n",
    "\n",
    "    summator(4.3, b=2.2)\n",
    "    summator(a=0, b=0)\n",
    "\n",
    "    with open(path) as log_file:\n",
    "        log_file_content = log_file.read()\n",
    "\n",
    "    assert 'summator' in log_file_content, 'должно записаться имя функции'\n",
    "    for item in (4.3, 2.2, 6.5):\n",
    "        assert str(item) in log_file_content, f'{item} должен быть записан в файл'"
   ]
  },
  {
   "cell_type": "code",
   "execution_count": 75,
   "id": "437ac2f5",
   "metadata": {},
   "outputs": [],
   "source": [
    "test_1()"
   ]
  },
  {
   "cell_type": "markdown",
   "id": "606635df",
   "metadata": {},
   "source": [
    "2. Доработать параметризованный декоратор logger в коде ниже. Должен получиться декоратор, который записывает в файл дату и время вызова функции, имя функции, \n",
    "аргументы, с которыми вызвалась, и возвращаемое значение. Путь к файлу должен передаваться в аргументах декоратора. Функция test_2 в коде ниже также должна отработать без ошибок."
   ]
  },
  {
   "cell_type": "code",
   "execution_count": 76,
   "id": "2bc339b8",
   "metadata": {},
   "outputs": [],
   "source": [
    "def logger(path):\n",
    "    def _logger(old_function):\n",
    "        def new_function(*args, **kwargs):\n",
    "            calling_datetime = str(datetime.datetime.now())\n",
    "            func_name = old_function.__name__\n",
    "            func_res = str(old_function(*args, **kwargs))\n",
    "            res = calling_datetime + ' ' + func_name + ' ' + f'{args=}' + ' ' + f'{kwargs=}' + ' ' + 'result= ' + ' ' + func_res\n",
    "            if os.path.exists(path):\n",
    "                with open (path, 'a+') as f:\n",
    "                    f.write(f'\\n{res}')\n",
    "            else:\n",
    "                with open (path, 'w') as f:\n",
    "                    f.write(res)\n",
    "            return old_function(*args, **kwargs)\n",
    "        return new_function\n",
    "    return _logger\n"
   ]
  },
  {
   "cell_type": "markdown",
   "id": "6c0a5384",
   "metadata": {},
   "source": [
    "Тестируем"
   ]
  },
  {
   "cell_type": "code",
   "execution_count": 78,
   "id": "105494a1",
   "metadata": {},
   "outputs": [],
   "source": [
    "def summator(a, b):\n",
    "    return a + b"
   ]
  },
  {
   "cell_type": "code",
   "execution_count": 79,
   "id": "37a3db92",
   "metadata": {},
   "outputs": [
    {
     "data": {
      "text/plain": [
       "9"
      ]
     },
     "execution_count": 79,
     "metadata": {},
     "output_type": "execute_result"
    }
   ],
   "source": [
    "summator(4,5)"
   ]
  },
  {
   "cell_type": "code",
   "execution_count": 80,
   "id": "0858fd58",
   "metadata": {},
   "outputs": [],
   "source": [
    "@logger('main.log')\n",
    "def summator(a, b):\n",
    "    return a + b"
   ]
  },
  {
   "cell_type": "code",
   "execution_count": 81,
   "id": "1eeab668",
   "metadata": {},
   "outputs": [
    {
     "data": {
      "text/plain": [
       "11"
      ]
     },
     "execution_count": 81,
     "metadata": {},
     "output_type": "execute_result"
    }
   ],
   "source": [
    "summator(5,6)"
   ]
  },
  {
   "cell_type": "markdown",
   "id": "130a0993",
   "metadata": {},
   "source": [
    "Тесты из домашнего задания"
   ]
  },
  {
   "cell_type": "code",
   "execution_count": 82,
   "id": "9bc77580",
   "metadata": {},
   "outputs": [],
   "source": [
    "def test_2():\n",
    "    paths = ('log_1.log', 'log_2.log', 'log_3.log')\n",
    "\n",
    "    for path in paths:\n",
    "        if os.path.exists(path):\n",
    "            os.remove(path)\n",
    "\n",
    "        @logger(path)\n",
    "        def hello_world():\n",
    "            return 'Hello World'\n",
    "\n",
    "        @logger(path)\n",
    "        def summator(a, b=0):\n",
    "            return a + b\n",
    "\n",
    "        @logger(path)\n",
    "        def div(a, b):\n",
    "            return a / b\n",
    "\n",
    "        assert 'Hello World' == hello_world(), \"Функция возвращает 'Hello World'\"\n",
    "        result = summator(2, 2)\n",
    "        assert isinstance(result, int), 'Должно вернуться целое число'\n",
    "        assert result == 4, '2 + 2 = 4'\n",
    "        result = div(6, 2)\n",
    "        assert result == 3, '6 / 2 = 3'\n",
    "        summator(4.3, b=2.2)\n",
    "\n",
    "    for path in paths:\n",
    "\n",
    "        assert os.path.exists(path), f'файл {path} должен существовать'\n",
    "\n",
    "        with open(path) as log_file:\n",
    "            log_file_content = log_file.read()\n",
    "\n",
    "        assert 'summator' in log_file_content, 'должно записаться имя функции'\n",
    "\n",
    "        for item in (4.3, 2.2, 6.5):\n",
    "            assert str(item) in log_file_content, f'{item} должен быть записан в файл'"
   ]
  },
  {
   "cell_type": "code",
   "execution_count": 83,
   "id": "793d0058",
   "metadata": {},
   "outputs": [],
   "source": [
    "test_2()"
   ]
  },
  {
   "cell_type": "markdown",
   "id": "658d36e6",
   "metadata": {},
   "source": [
    "3. Применить написанный логгер к приложению из любого предыдущего д/з. - ПРИМЕНЕНО. ВСЕ РАБОТАЕТ."
   ]
  },
  {
   "cell_type": "code",
   "execution_count": null,
   "id": "ce216906",
   "metadata": {},
   "outputs": [],
   "source": []
  }
 ],
 "metadata": {
  "kernelspec": {
   "display_name": "Python 3",
   "language": "python",
   "name": "python3"
  },
  "language_info": {
   "codemirror_mode": {
    "name": "ipython",
    "version": 3
   },
   "file_extension": ".py",
   "mimetype": "text/x-python",
   "name": "python",
   "nbconvert_exporter": "python",
   "pygments_lexer": "ipython3",
   "version": "3.9.2"
  }
 },
 "nbformat": 4,
 "nbformat_minor": 5
}
